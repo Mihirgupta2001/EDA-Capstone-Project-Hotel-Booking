{
  "nbformat": 4,
  "nbformat_minor": 0,
  "metadata": {
    "kernelspec": {
      "display_name": "Python 3",
      "language": "python",
      "name": "python3"
    },
    "language_info": {
      "codemirror_mode": {
        "name": "ipython",
        "version": 3
      },
      "file_extension": ".py",
      "mimetype": "text/x-python",
      "name": "python",
      "nbconvert_exporter": "python",
      "pygments_lexer": "ipython3",
      "version": "3.6.6"
    },
    "colab": {
      "provenance": [],
      "include_colab_link": true
    }
  },
  "cells": [
    {
      "cell_type": "markdown",
      "metadata": {
        "id": "view-in-github",
        "colab_type": "text"
      },
      "source": [
        "<a href=\"https://colab.research.google.com/github/Mihirgupta2001/Mihirgupta2001/blob/main/EDA_Hotel_Booking_Analysis_Capstone_Project.ipynb\" target=\"_parent\"><img src=\"https://colab.research.google.com/assets/colab-badge.svg\" alt=\"Open In Colab\"/></a>"
      ]
    },
    {
      "cell_type": "markdown",
      "metadata": {
        "id": "Y06xIdG26kRF"
      },
      "source": [
        "## <b> Have you ever wondered when the best time of year to book a hotel room is? Or the optimal length of stay in order to get the best daily rate? What if you wanted to predict whether or not a hotel was likely to receive a disproportionately high number of special requests? This hotel booking dataset can help you explore those questions!\n",
        "\n",
        "## <b>This data set contains booking information for a city hotel and a resort hotel, and includes information such as when the booking was made, length of stay, the number of adults, children, and/or babies, and the number of available parking spaces, among other things. All personally identifying information has been removed from the data. </b>\n",
        "\n",
        "## <b> Explore and analyze the data to discover important factors that govern the bookings. </b>"
      ]
    },
    {
      "cell_type": "code",
      "source": [
        "import pandas as pd\n",
        "import numpy as np\n",
        "import matplotlib.pyplot as plt"
      ],
      "metadata": {
        "id": "pxEfrfO5IeZt"
      },
      "execution_count": null,
      "outputs": []
    },
    {
      "cell_type": "code",
      "source": [
        "from google.colab import drive\n",
        "drive.mount('/content/drive')"
      ],
      "metadata": {
        "colab": {
          "base_uri": "https://localhost:8080/"
        },
        "id": "sUIepztqHfLI",
        "outputId": "1b50a096-c52d-4cf2-fa9f-2256b997907e"
      },
      "execution_count": null,
      "outputs": [
        {
          "output_type": "stream",
          "name": "stdout",
          "text": [
            "Mounted at /content/drive\n"
          ]
        }
      ]
    },
    {
      "cell_type": "code",
      "source": [
        "path = '/content/drive/MyDrive/Colab Notebooks/Data Sets/Hotel Bookings.csv'\n",
        "df = df=pd.read_csv(path)"
      ],
      "metadata": {
        "id": "_ccpPZ9aHf48"
      },
      "execution_count": null,
      "outputs": []
    },
    {
      "cell_type": "code",
      "source": [
        "df.head(2)"
      ],
      "metadata": {
        "colab": {
          "base_uri": "https://localhost:8080/",
          "height": 240
        },
        "id": "RUKywcO4Itar",
        "outputId": "2b00eccd-2651-41d3-a0f6-2ce5881924db"
      },
      "execution_count": null,
      "outputs": [
        {
          "output_type": "execute_result",
          "data": {
            "text/plain": [
              "          hotel  is_canceled  lead_time  arrival_date_year arrival_date_month  \\\n",
              "0  Resort Hotel            0        342               2015               July   \n",
              "1  Resort Hotel            0        737               2015               July   \n",
              "\n",
              "   arrival_date_week_number  arrival_date_day_of_month  \\\n",
              "0                        27                          1   \n",
              "1                        27                          1   \n",
              "\n",
              "   stays_in_weekend_nights  stays_in_week_nights  adults  ...  deposit_type  \\\n",
              "0                        0                     0       2  ...    No Deposit   \n",
              "1                        0                     0       2  ...    No Deposit   \n",
              "\n",
              "   agent company days_in_waiting_list customer_type  adr  \\\n",
              "0    NaN     NaN                    0     Transient  0.0   \n",
              "1    NaN     NaN                    0     Transient  0.0   \n",
              "\n",
              "   required_car_parking_spaces  total_of_special_requests  reservation_status  \\\n",
              "0                            0                          0           Check-Out   \n",
              "1                            0                          0           Check-Out   \n",
              "\n",
              "  reservation_status_date  \n",
              "0              2015-07-01  \n",
              "1              2015-07-01  \n",
              "\n",
              "[2 rows x 32 columns]"
            ],
            "text/html": [
              "\n",
              "  <div id=\"df-bad99bcd-80e0-43d7-823a-faeb04e51147\">\n",
              "    <div class=\"colab-df-container\">\n",
              "      <div>\n",
              "<style scoped>\n",
              "    .dataframe tbody tr th:only-of-type {\n",
              "        vertical-align: middle;\n",
              "    }\n",
              "\n",
              "    .dataframe tbody tr th {\n",
              "        vertical-align: top;\n",
              "    }\n",
              "\n",
              "    .dataframe thead th {\n",
              "        text-align: right;\n",
              "    }\n",
              "</style>\n",
              "<table border=\"1\" class=\"dataframe\">\n",
              "  <thead>\n",
              "    <tr style=\"text-align: right;\">\n",
              "      <th></th>\n",
              "      <th>hotel</th>\n",
              "      <th>is_canceled</th>\n",
              "      <th>lead_time</th>\n",
              "      <th>arrival_date_year</th>\n",
              "      <th>arrival_date_month</th>\n",
              "      <th>arrival_date_week_number</th>\n",
              "      <th>arrival_date_day_of_month</th>\n",
              "      <th>stays_in_weekend_nights</th>\n",
              "      <th>stays_in_week_nights</th>\n",
              "      <th>adults</th>\n",
              "      <th>...</th>\n",
              "      <th>deposit_type</th>\n",
              "      <th>agent</th>\n",
              "      <th>company</th>\n",
              "      <th>days_in_waiting_list</th>\n",
              "      <th>customer_type</th>\n",
              "      <th>adr</th>\n",
              "      <th>required_car_parking_spaces</th>\n",
              "      <th>total_of_special_requests</th>\n",
              "      <th>reservation_status</th>\n",
              "      <th>reservation_status_date</th>\n",
              "    </tr>\n",
              "  </thead>\n",
              "  <tbody>\n",
              "    <tr>\n",
              "      <th>0</th>\n",
              "      <td>Resort Hotel</td>\n",
              "      <td>0</td>\n",
              "      <td>342</td>\n",
              "      <td>2015</td>\n",
              "      <td>July</td>\n",
              "      <td>27</td>\n",
              "      <td>1</td>\n",
              "      <td>0</td>\n",
              "      <td>0</td>\n",
              "      <td>2</td>\n",
              "      <td>...</td>\n",
              "      <td>No Deposit</td>\n",
              "      <td>NaN</td>\n",
              "      <td>NaN</td>\n",
              "      <td>0</td>\n",
              "      <td>Transient</td>\n",
              "      <td>0.0</td>\n",
              "      <td>0</td>\n",
              "      <td>0</td>\n",
              "      <td>Check-Out</td>\n",
              "      <td>2015-07-01</td>\n",
              "    </tr>\n",
              "    <tr>\n",
              "      <th>1</th>\n",
              "      <td>Resort Hotel</td>\n",
              "      <td>0</td>\n",
              "      <td>737</td>\n",
              "      <td>2015</td>\n",
              "      <td>July</td>\n",
              "      <td>27</td>\n",
              "      <td>1</td>\n",
              "      <td>0</td>\n",
              "      <td>0</td>\n",
              "      <td>2</td>\n",
              "      <td>...</td>\n",
              "      <td>No Deposit</td>\n",
              "      <td>NaN</td>\n",
              "      <td>NaN</td>\n",
              "      <td>0</td>\n",
              "      <td>Transient</td>\n",
              "      <td>0.0</td>\n",
              "      <td>0</td>\n",
              "      <td>0</td>\n",
              "      <td>Check-Out</td>\n",
              "      <td>2015-07-01</td>\n",
              "    </tr>\n",
              "  </tbody>\n",
              "</table>\n",
              "<p>2 rows × 32 columns</p>\n",
              "</div>\n",
              "      <button class=\"colab-df-convert\" onclick=\"convertToInteractive('df-bad99bcd-80e0-43d7-823a-faeb04e51147')\"\n",
              "              title=\"Convert this dataframe to an interactive table.\"\n",
              "              style=\"display:none;\">\n",
              "        \n",
              "  <svg xmlns=\"http://www.w3.org/2000/svg\" height=\"24px\"viewBox=\"0 0 24 24\"\n",
              "       width=\"24px\">\n",
              "    <path d=\"M0 0h24v24H0V0z\" fill=\"none\"/>\n",
              "    <path d=\"M18.56 5.44l.94 2.06.94-2.06 2.06-.94-2.06-.94-.94-2.06-.94 2.06-2.06.94zm-11 1L8.5 8.5l.94-2.06 2.06-.94-2.06-.94L8.5 2.5l-.94 2.06-2.06.94zm10 10l.94 2.06.94-2.06 2.06-.94-2.06-.94-.94-2.06-.94 2.06-2.06.94z\"/><path d=\"M17.41 7.96l-1.37-1.37c-.4-.4-.92-.59-1.43-.59-.52 0-1.04.2-1.43.59L10.3 9.45l-7.72 7.72c-.78.78-.78 2.05 0 2.83L4 21.41c.39.39.9.59 1.41.59.51 0 1.02-.2 1.41-.59l7.78-7.78 2.81-2.81c.8-.78.8-2.07 0-2.86zM5.41 20L4 18.59l7.72-7.72 1.47 1.35L5.41 20z\"/>\n",
              "  </svg>\n",
              "      </button>\n",
              "      \n",
              "  <style>\n",
              "    .colab-df-container {\n",
              "      display:flex;\n",
              "      flex-wrap:wrap;\n",
              "      gap: 12px;\n",
              "    }\n",
              "\n",
              "    .colab-df-convert {\n",
              "      background-color: #E8F0FE;\n",
              "      border: none;\n",
              "      border-radius: 50%;\n",
              "      cursor: pointer;\n",
              "      display: none;\n",
              "      fill: #1967D2;\n",
              "      height: 32px;\n",
              "      padding: 0 0 0 0;\n",
              "      width: 32px;\n",
              "    }\n",
              "\n",
              "    .colab-df-convert:hover {\n",
              "      background-color: #E2EBFA;\n",
              "      box-shadow: 0px 1px 2px rgba(60, 64, 67, 0.3), 0px 1px 3px 1px rgba(60, 64, 67, 0.15);\n",
              "      fill: #174EA6;\n",
              "    }\n",
              "\n",
              "    [theme=dark] .colab-df-convert {\n",
              "      background-color: #3B4455;\n",
              "      fill: #D2E3FC;\n",
              "    }\n",
              "\n",
              "    [theme=dark] .colab-df-convert:hover {\n",
              "      background-color: #434B5C;\n",
              "      box-shadow: 0px 1px 3px 1px rgba(0, 0, 0, 0.15);\n",
              "      filter: drop-shadow(0px 1px 2px rgba(0, 0, 0, 0.3));\n",
              "      fill: #FFFFFF;\n",
              "    }\n",
              "  </style>\n",
              "\n",
              "      <script>\n",
              "        const buttonEl =\n",
              "          document.querySelector('#df-bad99bcd-80e0-43d7-823a-faeb04e51147 button.colab-df-convert');\n",
              "        buttonEl.style.display =\n",
              "          google.colab.kernel.accessAllowed ? 'block' : 'none';\n",
              "\n",
              "        async function convertToInteractive(key) {\n",
              "          const element = document.querySelector('#df-bad99bcd-80e0-43d7-823a-faeb04e51147');\n",
              "          const dataTable =\n",
              "            await google.colab.kernel.invokeFunction('convertToInteractive',\n",
              "                                                     [key], {});\n",
              "          if (!dataTable) return;\n",
              "\n",
              "          const docLinkHtml = 'Like what you see? Visit the ' +\n",
              "            '<a target=\"_blank\" href=https://colab.research.google.com/notebooks/data_table.ipynb>data table notebook</a>'\n",
              "            + ' to learn more about interactive tables.';\n",
              "          element.innerHTML = '';\n",
              "          dataTable['output_type'] = 'display_data';\n",
              "          await google.colab.output.renderOutput(dataTable, element);\n",
              "          const docLink = document.createElement('div');\n",
              "          docLink.innerHTML = docLinkHtml;\n",
              "          element.appendChild(docLink);\n",
              "        }\n",
              "      </script>\n",
              "    </div>\n",
              "  </div>\n",
              "  "
            ]
          },
          "metadata": {},
          "execution_count": 15
        }
      ]
    },
    {
      "cell_type": "code",
      "source": [
        "df.info()"
      ],
      "metadata": {
        "colab": {
          "base_uri": "https://localhost:8080/"
        },
        "id": "vz9y5c0iIclg",
        "outputId": "fd7ecb17-725b-4eb9-eb0a-1edd8c32f1cb"
      },
      "execution_count": null,
      "outputs": [
        {
          "output_type": "stream",
          "name": "stdout",
          "text": [
            "<class 'pandas.core.frame.DataFrame'>\n",
            "RangeIndex: 119390 entries, 0 to 119389\n",
            "Data columns (total 32 columns):\n",
            " #   Column                          Non-Null Count   Dtype  \n",
            "---  ------                          --------------   -----  \n",
            " 0   hotel                           119390 non-null  object \n",
            " 1   is_canceled                     119390 non-null  int64  \n",
            " 2   lead_time                       119390 non-null  int64  \n",
            " 3   arrival_date_year               119390 non-null  int64  \n",
            " 4   arrival_date_month              119390 non-null  object \n",
            " 5   arrival_date_week_number        119390 non-null  int64  \n",
            " 6   arrival_date_day_of_month       119390 non-null  int64  \n",
            " 7   stays_in_weekend_nights         119390 non-null  int64  \n",
            " 8   stays_in_week_nights            119390 non-null  int64  \n",
            " 9   adults                          119390 non-null  int64  \n",
            " 10  children                        119386 non-null  float64\n",
            " 11  babies                          119390 non-null  int64  \n",
            " 12  meal                            119390 non-null  object \n",
            " 13  country                         118902 non-null  object \n",
            " 14  market_segment                  119390 non-null  object \n",
            " 15  distribution_channel            119390 non-null  object \n",
            " 16  is_repeated_guest               119390 non-null  int64  \n",
            " 17  previous_cancellations          119390 non-null  int64  \n",
            " 18  previous_bookings_not_canceled  119390 non-null  int64  \n",
            " 19  reserved_room_type              119390 non-null  object \n",
            " 20  assigned_room_type              119390 non-null  object \n",
            " 21  booking_changes                 119390 non-null  int64  \n",
            " 22  deposit_type                    119390 non-null  object \n",
            " 23  agent                           103050 non-null  float64\n",
            " 24  company                         6797 non-null    float64\n",
            " 25  days_in_waiting_list            119390 non-null  int64  \n",
            " 26  customer_type                   119390 non-null  object \n",
            " 27  adr                             119390 non-null  float64\n",
            " 28  required_car_parking_spaces     119390 non-null  int64  \n",
            " 29  total_of_special_requests       119390 non-null  int64  \n",
            " 30  reservation_status              119390 non-null  object \n",
            " 31  reservation_status_date         119390 non-null  object \n",
            "dtypes: float64(4), int64(16), object(12)\n",
            "memory usage: 29.1+ MB\n"
          ]
        }
      ]
    },
    {
      "cell_type": "markdown",
      "source": [
        "# We can see that there are null values in countries, agent, children and company column\n",
        "Put '0' for children\n",
        "\n",
        "Put 'NaN' for agent\n",
        "\n",
        "Put 'NaN' for Company\n",
        "\n",
        "Put 'others' for Country"
      ],
      "metadata": {
        "id": "QBQFjQF1J1mf"
      }
    },
    {
      "cell_type": "code",
      "source": [
        "df['children'].fillna(0,inplace = True)\n",
        "df['agent'].fillna('NaN',inplace = True)\n",
        "df['company'].fillna('NaN',inplace = True)\n",
        "df['country'].fillna('others',inplace = True)"
      ],
      "metadata": {
        "id": "0WdgTmpJJG2z"
      },
      "execution_count": null,
      "outputs": []
    },
    {
      "cell_type": "code",
      "source": [
        "#childrens cannot be in float, changing it to int\n",
        "df['children'] = df['children'].astype(int)"
      ],
      "metadata": {
        "id": "STTe_dEfQW7c"
      },
      "execution_count": null,
      "outputs": []
    },
    {
      "cell_type": "code",
      "source": [
        "#Checking for missing values\n",
        "df.info()"
      ],
      "metadata": {
        "colab": {
          "base_uri": "https://localhost:8080/"
        },
        "id": "eKmqs6piInvS",
        "outputId": "e8324f44-1862-4ebe-ce47-8ae9321e3d82"
      },
      "execution_count": null,
      "outputs": [
        {
          "output_type": "stream",
          "name": "stdout",
          "text": [
            "<class 'pandas.core.frame.DataFrame'>\n",
            "RangeIndex: 119390 entries, 0 to 119389\n",
            "Data columns (total 32 columns):\n",
            " #   Column                          Non-Null Count   Dtype  \n",
            "---  ------                          --------------   -----  \n",
            " 0   hotel                           119390 non-null  object \n",
            " 1   is_canceled                     119390 non-null  int64  \n",
            " 2   lead_time                       119390 non-null  int64  \n",
            " 3   arrival_date_year               119390 non-null  int64  \n",
            " 4   arrival_date_month              119390 non-null  object \n",
            " 5   arrival_date_week_number        119390 non-null  int64  \n",
            " 6   arrival_date_day_of_month       119390 non-null  int64  \n",
            " 7   stays_in_weekend_nights         119390 non-null  int64  \n",
            " 8   stays_in_week_nights            119390 non-null  int64  \n",
            " 9   adults                          119390 non-null  int64  \n",
            " 10  children                        119390 non-null  int64  \n",
            " 11  babies                          119390 non-null  int64  \n",
            " 12  meal                            119390 non-null  object \n",
            " 13  country                         119390 non-null  object \n",
            " 14  market_segment                  119390 non-null  object \n",
            " 15  distribution_channel            119390 non-null  object \n",
            " 16  is_repeated_guest               119390 non-null  int64  \n",
            " 17  previous_cancellations          119390 non-null  int64  \n",
            " 18  previous_bookings_not_canceled  119390 non-null  int64  \n",
            " 19  reserved_room_type              119390 non-null  object \n",
            " 20  assigned_room_type              119390 non-null  object \n",
            " 21  booking_changes                 119390 non-null  int64  \n",
            " 22  deposit_type                    119390 non-null  object \n",
            " 23  agent                           119390 non-null  object \n",
            " 24  company                         119390 non-null  object \n",
            " 25  days_in_waiting_list            119390 non-null  int64  \n",
            " 26  customer_type                   119390 non-null  object \n",
            " 27  adr                             119390 non-null  float64\n",
            " 28  required_car_parking_spaces     119390 non-null  int64  \n",
            " 29  total_of_special_requests       119390 non-null  int64  \n",
            " 30  reservation_status              119390 non-null  object \n",
            " 31  reservation_status_date         119390 non-null  object \n",
            "dtypes: float64(1), int64(17), object(14)\n",
            "memory usage: 29.1+ MB\n"
          ]
        }
      ]
    },
    {
      "cell_type": "markdown",
      "source": [
        "# 1. Which hotels are having more cancellations, City or Resort? What is the percentage of people cancelling there booking?"
      ],
      "metadata": {
        "id": "5gR7cJIZM2CJ"
      }
    },
    {
      "cell_type": "code",
      "source": [
        "#Counting the total number of canceled hotel bookings\n",
        "df['is_canceled'].value_counts()"
      ],
      "metadata": {
        "colab": {
          "base_uri": "https://localhost:8080/"
        },
        "id": "9SxKI5k1MypC",
        "outputId": "2601c621-7840-4be4-e3c9-b1ee75a203ed"
      },
      "execution_count": null,
      "outputs": [
        {
          "output_type": "execute_result",
          "data": {
            "text/plain": [
              "0    75166\n",
              "1    44224\n",
              "Name: is_canceled, dtype: int64"
            ]
          },
          "metadata": {},
          "execution_count": 8
        }
      ]
    },
    {
      "cell_type": "code",
      "source": [
        "#Counting the total numbers of Resort and City hotels were booked\n",
        "df['hotel'].value_counts()"
      ],
      "metadata": {
        "id": "fuR1aIhIMVPb",
        "colab": {
          "base_uri": "https://localhost:8080/"
        },
        "outputId": "e91799b1-6c33-4c3f-b43c-4d1db0bc1a9a"
      },
      "execution_count": null,
      "outputs": [
        {
          "output_type": "execute_result",
          "data": {
            "text/plain": [
              "City Hotel      79330\n",
              "Resort Hotel    40060\n",
              "Name: hotel, dtype: int64"
            ]
          },
          "metadata": {},
          "execution_count": 9
        }
      ]
    },
    {
      "cell_type": "code",
      "source": [
        "# Seperating the relevant dataframe from the actual data and from there filtering out the canceled hotel bookings in Resort and City category hotels\n",
        "relevant_df = df[['hotel','is_canceled','arrival_date_month','arrival_date_year']].copy()\n",
        "relevant_df1 = relevant_df[(relevant_df['hotel'] == 'Resort Hotel') & (relevant_df['is_canceled'] == 1)]\n",
        "relevant_df2 = relevant_df[(relevant_df['hotel'] == 'City Hotel') & (relevant_df['is_canceled'] == 1)]"
      ],
      "metadata": {
        "id": "5c3PVNH7RIUr"
      },
      "execution_count": null,
      "outputs": []
    },
    {
      "cell_type": "code",
      "source": [
        "# Grouping the data by Month and year and counting the total number of cancellations in each category\n",
        "resort_cancel_data = relevant_df1.groupby(['arrival_date_year','arrival_date_month'],as_index = False).count()\n",
        "city_cancel_data = relevant_df2.groupby(['arrival_date_year','arrival_date_month'],as_index = False).count()\n"
      ],
      "metadata": {
        "id": "Ye3V22PLzGY3"
      },
      "execution_count": null,
      "outputs": []
    },
    {
      "cell_type": "code",
      "source": [
        "# Splitting the data frame for cancelled bookings in resort accorindig to year 2015,2016,2017\n",
        "resort_cancel_data_2015 = resort_cancel_data[resort_cancel_data['arrival_date_year']==2015]\n",
        "resort_cancel_data_2016 = resort_cancel_data[resort_cancel_data['arrival_date_year']==2016]\n",
        "resort_cancel_data_2017 = resort_cancel_data[resort_cancel_data['arrival_date_year']==2017]\n",
        "\n",
        "# Splitting the data frame for cancelled bookings in City accorindig to year 2015,2016,2017\n",
        "city_cancel_data_2015 = city_cancel_data[city_cancel_data['arrival_date_year']==2015]\n",
        "city_cancel_data_2016 = city_cancel_data[city_cancel_data['arrival_date_year']==2016]\n",
        "city_cancel_data_2017 = city_cancel_data[city_cancel_data['arrival_date_year']==2017]\n"
      ],
      "metadata": {
        "id": "8H-8BTeGxjfD"
      },
      "execution_count": null,
      "outputs": []
    },
    {
      "cell_type": "code",
      "source": [
        "# Getting the total number of booking in a particual month of a particular year\n",
        "#filtering out the successful hotel bookings in Resort and City category hotels\n",
        "relevant_df3 = relevant_df[(relevant_df['hotel'] == 'Resort Hotel') & (relevant_df['is_canceled'] == 0)]\n",
        "relevant_df4 = relevant_df[(relevant_df['hotel'] == 'City Hotel') & (relevant_df['is_canceled'] == 0)]\n",
        "\n",
        "# Grouping the data by Month and year and counting the total number of succesful hotel bookings in each category\n",
        "resort_success_data = relevant_df3.groupby(['arrival_date_year','arrival_date_month'],as_index = False).count()\n",
        "city_success_data = relevant_df4.groupby(['arrival_date_year','arrival_date_month'],as_index = False).count()\n",
        "\n",
        "# Splitting the data frame for succesful accorindig to year 2015,2016,2017 for resort\n",
        "resort_success_data_2015 = resort_success_data[resort_success_data['arrival_date_year']==2015].rename(columns = {'is_canceled':'is_not_canceled'})\n",
        "resort_success_data_2016 = resort_success_data[resort_success_data['arrival_date_year']==2016].rename(columns = {'is_canceled':'is_not_canceled'})\n",
        "resort_success_data_2017 = resort_success_data[resort_success_data['arrival_date_year']==2017].rename(columns = {'is_canceled':'is_not_canceled'})\n",
        "\n",
        "# Splitting the data frame for successful bookings according to year 2015,2016,2017 for City\n",
        "city_success_data_2015 = city_success_data[city_success_data['arrival_date_year']==2015].rename(columns = {'is_canceled':'is_not_canceled'})\n",
        "city_success_data_2016 = city_success_data[city_success_data['arrival_date_year']==2016].rename(columns = {'is_canceled':'is_not_canceled'})\n",
        "city_success_data_2017 = city_success_data[city_success_data['arrival_date_year']==2017].rename(columns = {'is_canceled':'is_not_canceled'})\n",
        "\n"
      ],
      "metadata": {
        "id": "1KNJKrOaSj7y"
      },
      "execution_count": null,
      "outputs": []
    },
    {
      "cell_type": "code",
      "source": [
        "# Merging to final data set for resort\n",
        "resort_final_data_2015 = pd.merge(resort_cancel_data_2015,resort_success_data_2015,how = 'inner',left_on = 'arrival_date_month',right_on = 'arrival_date_month')\n",
        "resort_final_data_2015.drop(columns = ['arrival_date_year_x','hotel_x','arrival_date_year_y','hotel_y'],inplace = True)\n",
        "resort_final_data_2015 = resort_final_data_2015.assign(Total_booking = lambda x: x.is_canceled + x.is_not_canceled)\n",
        "resort_final_data_2015 = resort_final_data_2015.assign(Percentage_of_cancellation = lambda x: (x.is_canceled / x.Total_booking)*100)\n",
        "percent_mean_resort_2015 = resort_final_data_2015.Percentage_of_cancellation.mean()\n",
        "\n",
        "\n",
        "resort_final_data_2016 = pd.merge(resort_cancel_data_2016,resort_success_data_2016,how = 'inner',left_on = 'arrival_date_month',right_on = 'arrival_date_month')\n",
        "resort_final_data_2016.drop(columns = ['arrival_date_year_x','hotel_x','arrival_date_year_y','hotel_y'],inplace = True)\n",
        "resort_final_data_2016 = resort_final_data_2016.assign(Total_booking = lambda x: x.is_canceled + x.is_not_canceled)\n",
        "resort_final_data_2016 = resort_final_data_2016.assign(Percentage_of_cancellation = lambda x: (x.is_canceled / x.Total_booking)*100)\n",
        "percent_mean_resort_2016 = resort_final_data_2016.Percentage_of_cancellation.mean()\n",
        "\n",
        "\n",
        "resort_final_data_2017 = pd.merge(resort_cancel_data_2017,resort_success_data_2017,how = 'inner',left_on = 'arrival_date_month',right_on = 'arrival_date_month')\n",
        "resort_final_data_2017.drop(columns = ['arrival_date_year_x','hotel_x','arrival_date_year_y','hotel_y'],inplace = True)\n",
        "resort_final_data_2017 = resort_final_data_2017.assign(Total_booking = lambda x: x.is_canceled + x.is_not_canceled)\n",
        "resort_final_data_2017 = resort_final_data_2017.assign(Percentage_of_cancellation = lambda x: (x.is_canceled / x.Total_booking)*100)\n",
        "percent_mean_resort_2017 = resort_final_data_2017.Percentage_of_cancellation.mean()\n",
        "\n",
        "\n"
      ],
      "metadata": {
        "id": "DZpdTf-x-5Be"
      },
      "execution_count": null,
      "outputs": []
    },
    {
      "cell_type": "code",
      "source": [
        "# Merging to final data set for city\n",
        "city_final_data_2015 = pd.merge(city_cancel_data_2015,city_success_data_2015,how = 'inner',left_on = 'arrival_date_month',right_on = 'arrival_date_month')\n",
        "city_final_data_2015.drop(columns = ['arrival_date_year_x','hotel_x','arrival_date_year_y','hotel_y'],inplace = True)\n",
        "city_final_data_2015 = city_final_data_2015.assign(Total_booking = lambda x: x.is_canceled + x.is_not_canceled)\n",
        "city_final_data_2015 = city_final_data_2015.assign(Percentage_of_cancellation = lambda x: (x.is_canceled / x.Total_booking)*100)\n",
        "percent_mean_city_2015 = city_final_data_2015.Percentage_of_cancellation.mean()\n",
        "\n",
        "\n",
        "city_final_data_2016 = pd.merge(city_cancel_data_2016,city_success_data_2016,how = 'inner',left_on = 'arrival_date_month',right_on = 'arrival_date_month')\n",
        "city_final_data_2016.drop(columns = ['arrival_date_year_x','hotel_x','arrival_date_year_y','hotel_y'],inplace = True)\n",
        "city_final_data_2016 = city_final_data_2016.assign(Total_booking = lambda x: x.is_canceled + x.is_not_canceled)\n",
        "city_final_data_2016 = city_final_data_2016.assign(Percentage_of_cancellation = lambda x: (x.is_canceled / x.Total_booking)*100)\n",
        "percent_mean_city_2016 = city_final_data_2016.Percentage_of_cancellation.mean()\n",
        "\n",
        "\n",
        "city_final_data_2017 = pd.merge(resort_cancel_data_2017,resort_success_data_2017,how = 'inner',left_on = 'arrival_date_month',right_on = 'arrival_date_month')\n",
        "city_final_data_2017.drop(columns = ['arrival_date_year_x','hotel_x','arrival_date_year_y','hotel_y'],inplace = True)\n",
        "city_final_data_2017 = resort_final_data_2017.assign(Total_booking = lambda x: x.is_canceled + x.is_not_canceled)\n",
        "city_final_data_2017 = city_final_data_2017.assign(Percentage_of_cancellation = lambda x: (x.is_canceled / x.Total_booking)*100)\n",
        "percent_mean_city_2017 = city_final_data_2017.Percentage_of_cancellation.mean()\n",
        "\n"
      ],
      "metadata": {
        "id": "ppeAyDarDEhI"
      },
      "execution_count": null,
      "outputs": []
    },
    {
      "cell_type": "code",
      "source": [
        "# Defining the mean percentage of cancellation every year as array\n",
        "percent_array = np.array([[percent_mean_city_2015,percent_mean_city_2016,percent_mean_city_2017],[percent_mean_resort_2015,percent_mean_resort_2016,percent_mean_resort_2017]])\n"
      ],
      "metadata": {
        "id": "ZlxQRj3pVv11"
      },
      "execution_count": null,
      "outputs": []
    },
    {
      "cell_type": "code",
      "source": [
        "# Converting the array to dataframe which would be used to plot\n",
        "plotting_df = pd.DataFrame(percent_array, columns = ['2015','2016','2017'])\n",
        "plotting_df\n"
      ],
      "metadata": {
        "colab": {
          "base_uri": "https://localhost:8080/",
          "height": 112
        },
        "id": "8-u1Qi78M-pr",
        "outputId": "e5c4dbfe-21d6-400d-a88d-079075b03eab"
      },
      "execution_count": null,
      "outputs": [
        {
          "output_type": "execute_result",
          "data": {
            "text/plain": [
              "        2015      2016       2017\n",
              "0  44.056872  39.79301  30.144915\n",
              "1  25.159454  25.97572  30.144915"
            ],
            "text/html": [
              "\n",
              "  <div id=\"df-93b14210-a978-43ba-963d-3369ca2f2101\">\n",
              "    <div class=\"colab-df-container\">\n",
              "      <div>\n",
              "<style scoped>\n",
              "    .dataframe tbody tr th:only-of-type {\n",
              "        vertical-align: middle;\n",
              "    }\n",
              "\n",
              "    .dataframe tbody tr th {\n",
              "        vertical-align: top;\n",
              "    }\n",
              "\n",
              "    .dataframe thead th {\n",
              "        text-align: right;\n",
              "    }\n",
              "</style>\n",
              "<table border=\"1\" class=\"dataframe\">\n",
              "  <thead>\n",
              "    <tr style=\"text-align: right;\">\n",
              "      <th></th>\n",
              "      <th>2015</th>\n",
              "      <th>2016</th>\n",
              "      <th>2017</th>\n",
              "    </tr>\n",
              "  </thead>\n",
              "  <tbody>\n",
              "    <tr>\n",
              "      <th>0</th>\n",
              "      <td>44.056872</td>\n",
              "      <td>39.79301</td>\n",
              "      <td>30.144915</td>\n",
              "    </tr>\n",
              "    <tr>\n",
              "      <th>1</th>\n",
              "      <td>25.159454</td>\n",
              "      <td>25.97572</td>\n",
              "      <td>30.144915</td>\n",
              "    </tr>\n",
              "  </tbody>\n",
              "</table>\n",
              "</div>\n",
              "      <button class=\"colab-df-convert\" onclick=\"convertToInteractive('df-93b14210-a978-43ba-963d-3369ca2f2101')\"\n",
              "              title=\"Convert this dataframe to an interactive table.\"\n",
              "              style=\"display:none;\">\n",
              "        \n",
              "  <svg xmlns=\"http://www.w3.org/2000/svg\" height=\"24px\"viewBox=\"0 0 24 24\"\n",
              "       width=\"24px\">\n",
              "    <path d=\"M0 0h24v24H0V0z\" fill=\"none\"/>\n",
              "    <path d=\"M18.56 5.44l.94 2.06.94-2.06 2.06-.94-2.06-.94-.94-2.06-.94 2.06-2.06.94zm-11 1L8.5 8.5l.94-2.06 2.06-.94-2.06-.94L8.5 2.5l-.94 2.06-2.06.94zm10 10l.94 2.06.94-2.06 2.06-.94-2.06-.94-.94-2.06-.94 2.06-2.06.94z\"/><path d=\"M17.41 7.96l-1.37-1.37c-.4-.4-.92-.59-1.43-.59-.52 0-1.04.2-1.43.59L10.3 9.45l-7.72 7.72c-.78.78-.78 2.05 0 2.83L4 21.41c.39.39.9.59 1.41.59.51 0 1.02-.2 1.41-.59l7.78-7.78 2.81-2.81c.8-.78.8-2.07 0-2.86zM5.41 20L4 18.59l7.72-7.72 1.47 1.35L5.41 20z\"/>\n",
              "  </svg>\n",
              "      </button>\n",
              "      \n",
              "  <style>\n",
              "    .colab-df-container {\n",
              "      display:flex;\n",
              "      flex-wrap:wrap;\n",
              "      gap: 12px;\n",
              "    }\n",
              "\n",
              "    .colab-df-convert {\n",
              "      background-color: #E8F0FE;\n",
              "      border: none;\n",
              "      border-radius: 50%;\n",
              "      cursor: pointer;\n",
              "      display: none;\n",
              "      fill: #1967D2;\n",
              "      height: 32px;\n",
              "      padding: 0 0 0 0;\n",
              "      width: 32px;\n",
              "    }\n",
              "\n",
              "    .colab-df-convert:hover {\n",
              "      background-color: #E2EBFA;\n",
              "      box-shadow: 0px 1px 2px rgba(60, 64, 67, 0.3), 0px 1px 3px 1px rgba(60, 64, 67, 0.15);\n",
              "      fill: #174EA6;\n",
              "    }\n",
              "\n",
              "    [theme=dark] .colab-df-convert {\n",
              "      background-color: #3B4455;\n",
              "      fill: #D2E3FC;\n",
              "    }\n",
              "\n",
              "    [theme=dark] .colab-df-convert:hover {\n",
              "      background-color: #434B5C;\n",
              "      box-shadow: 0px 1px 3px 1px rgba(0, 0, 0, 0.15);\n",
              "      filter: drop-shadow(0px 1px 2px rgba(0, 0, 0, 0.3));\n",
              "      fill: #FFFFFF;\n",
              "    }\n",
              "  </style>\n",
              "\n",
              "      <script>\n",
              "        const buttonEl =\n",
              "          document.querySelector('#df-93b14210-a978-43ba-963d-3369ca2f2101 button.colab-df-convert');\n",
              "        buttonEl.style.display =\n",
              "          google.colab.kernel.accessAllowed ? 'block' : 'none';\n",
              "\n",
              "        async function convertToInteractive(key) {\n",
              "          const element = document.querySelector('#df-93b14210-a978-43ba-963d-3369ca2f2101');\n",
              "          const dataTable =\n",
              "            await google.colab.kernel.invokeFunction('convertToInteractive',\n",
              "                                                     [key], {});\n",
              "          if (!dataTable) return;\n",
              "\n",
              "          const docLinkHtml = 'Like what you see? Visit the ' +\n",
              "            '<a target=\"_blank\" href=https://colab.research.google.com/notebooks/data_table.ipynb>data table notebook</a>'\n",
              "            + ' to learn more about interactive tables.';\n",
              "          element.innerHTML = '';\n",
              "          dataTable['output_type'] = 'display_data';\n",
              "          await google.colab.output.renderOutput(dataTable, element);\n",
              "          const docLink = document.createElement('div');\n",
              "          docLink.innerHTML = docLinkHtml;\n",
              "          element.appendChild(docLink);\n",
              "        }\n",
              "      </script>\n",
              "    </div>\n",
              "  </div>\n",
              "  "
            ]
          },
          "metadata": {},
          "execution_count": 142
        }
      ]
    },
    {
      "cell_type": "code",
      "source": [
        "# Plotting the Graph\n",
        "plotting = plotting_df.plot.bar(figsize = (10,5),fontsize = 18)\n",
        "plotting.set_title('Change in trends of hotel cancellations over the years 2015-2017', fontsize = 15)\n",
        "plotting.set_xlabel('Type of Hotel', fontsize = 18)\n",
        "plotting.set_ylabel('Percent of cancellation', fontsize = 18)\n",
        "plotting.set_xticklabels(['City Hotel','Resort Hotel'],rotation=0) \n"
      ],
      "metadata": {
        "colab": {
          "base_uri": "https://localhost:8080/",
          "height": 385
        },
        "id": "ynCOxBFySKye",
        "outputId": "d266f637-b3de-45d6-c015-eecc1e54cc29"
      },
      "execution_count": null,
      "outputs": [
        {
          "output_type": "execute_result",
          "data": {
            "text/plain": [
              "[Text(0, 0, 'City Hotel'), Text(0, 0, 'Resort Hotel')]"
            ]
          },
          "metadata": {},
          "execution_count": 155
        },
        {
          "output_type": "display_data",
          "data": {
            "text/plain": [
              "<Figure size 720x360 with 1 Axes>"
            ],
            "image/png": "[encoded data removed]"
          },
          "metadata": {
            "needs_background": "light"
          }
        }
      ]
    },
    {
      "cell_type": "code",
      "source": [],
      "metadata": {
        "id": "IJYLWIYjioMf"
      },
      "execution_count": null,
      "outputs": []
    }
  ]
}